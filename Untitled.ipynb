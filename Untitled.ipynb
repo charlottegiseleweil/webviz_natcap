{
 "cells": [
  {
   "cell_type": "code",
   "execution_count": 2,
   "metadata": {
    "collapsed": false
   },
   "outputs": [
    {
     "name": "stdout",
     "output_type": "stream",
     "text": [
      "This is fucking awesome\n"
     ]
    }
   ],
   "source": [
    "print 'This is fucking awesome'"
   ]
  },
  {
   "cell_type": "code",
   "execution_count": 3,
   "metadata": {
    "collapsed": false
   },
   "outputs": [
    {
     "name": "stdout",
     "output_type": "stream",
     "text": [
      "['obj_1_wt', 'obj_2_wt', 'obj_3_wt']\n"
     ]
    }
   ],
   "source": [
    "import re\n",
    "\n",
    "column_names = ['Unnamed: 0', 'obj_1_wt', 'obj_2_wt', 'obj_3_wt', 'sdr_1',\n",
    "       'awy_1', 'spatial_inputs', 'budget_level', 'AWY_1_agg_delta_rel',\n",
    "       'SDE_2_agg_delta_rel', 'SDL_3_agg_delta_rel',\n",
    "       'obj_wtd_agg_delta_rel', 'AWY_1_rast_delta_rel',\n",
    "       'SDE_2_rast_delta_rel', 'SDL_3_rast_delta_rel',\n",
    "       'obj_wtd_rast_delta_rel', 'AWY_1_pix_ave_delta_rel',\n",
    "       'SDE_2_pix_ave_delta_rel', 'SDL_3_pix_ave_delta_rel',\n",
    "       'obj_wtd_pix_ave_delta_rel', 'AWY_1_agg_delta_abs',\n",
    "       'SDE_2_agg_delta_abs', 'SDL_3_agg_delta_abs',\n",
    "       'obj_wtd_agg_delta_abs', 'AWY_1_rast_delta_abs',\n",
    "       'SDE_2_rast_delta_abs', 'SDL_3_rast_delta_abs',\n",
    "       'obj_wtd_rast_delta_abs', 'AWY_1_pix_ave_delta_abs',\n",
    "       'SDE_2_pix_ave_delta_abs', 'SDL_3_pix_ave_delta_abs',\n",
    "       'obj_wtd_pix_ave_delta_abs', 'agroforestry_frac_area',\n",
    "       'reforestation_frac_area', 'road_mitigation_frac_area',\n",
    "       'grass_strips_frac_area', 'riparian_mgmt_frac_area',\n",
    "       'terracing_frac_area', 'agroforestry_frac_alloc',\n",
    "       'reforestation_frac_alloc', 'road_mitigation_frac_alloc',\n",
    "       'grass_strips_frac_alloc', 'riparian_mgmt_frac_alloc',\n",
    "       'terracing_frac_alloc', 'agroforestry_npix', 'reforestation_npix',\n",
    "       'road_mitigation_npix', 'grass_strips_npix', 'riparian_mgmt_npix',\n",
    "       'terracing_npix', 'agroforestry_budg', 'reforestation_budg',\n",
    "       'road_mitigation_budg', 'grass_strips_budg', 'riparian_mgmt_budg',\n",
    "       'terracing_budg', 'port_rast', 'lulc_w_port']\n",
    "\n",
    "\n",
    "def group_columns(pat, names):\n",
    "\tresult = []\n",
    "\tfor name in names:\n",
    "\t\tif re.findall(pat, name):\n",
    "\t\t\tresult.append(name)\n",
    "\n",
    "\treturn result\n",
    "\n",
    "col_weights = group_columns(\".+_wt$\", column_names)\n",
    "col_parametric_uncertainty = ['sdr_1','awy_1', 'spatial_inputs', 'budget_level']\n",
    "\n",
    "print(col_weights)"
   ]
  },
  {
   "cell_type": "code",
   "execution_count": 4,
   "metadata": {
    "collapsed": false
   },
   "outputs": [
    {
     "data": {
      "text/plain": [
       "['obj_1_wt', 'obj_2_wt', 'obj_3_wt']"
      ]
     },
     "execution_count": 4,
     "metadata": {},
     "output_type": "execute_result"
    }
   ],
   "source": [
    "col_weights"
   ]
  },
  {
   "cell_type": "code",
   "execution_count": null,
   "metadata": {
    "collapsed": true
   },
   "outputs": [],
   "source": []
  }
 ],
 "metadata": {
  "anaconda-cloud": {},
  "kernelspec": {
   "display_name": "Python [Root]",
   "language": "python",
   "name": "Python [Root]"
  },
  "language_info": {
   "codemirror_mode": {
    "name": "ipython",
    "version": 2
   },
   "file_extension": ".py",
   "mimetype": "text/x-python",
   "name": "python",
   "nbconvert_exporter": "python",
   "pygments_lexer": "ipython2",
   "version": "2.7.12"
  }
 },
 "nbformat": 4,
 "nbformat_minor": 0
}
